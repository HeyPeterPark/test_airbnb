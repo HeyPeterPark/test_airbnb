{
 "cells": [
  {
   "cell_type": "markdown",
   "metadata": {},
   "source": [
    "# Part I. Procuring Datasets\n",
    "***\n",
    "Importing dependencies and setting basic URL variables. URL will look like: \n",
    "<br/> \n",
    "*`http://data.insideairbnb.com/united-states/il/chicago/2019-07-15/visualisations/listings.csv`*"
   ]
  },
  {
   "cell_type": "code",
   "execution_count": 1,
   "metadata": {
    "scrolled": true
   },
   "outputs": [
    {
     "data": {
      "text/plain": [
       "'http://data.insideairbnb.com/united-states/il/chicago/2019-07-15/visualisations/listings.csv'"
      ]
     },
     "execution_count": 1,
     "metadata": {},
     "output_type": "execute_result"
    }
   ],
   "source": [
    "import os\n",
    "import wget\n",
    "import pandas as pd\n",
    "from urllib.request import urlopen, URLError\n",
    "from pprint import pprint\n",
    "\n",
    "base = 'http://data.insideairbnb.com/united-states/il/chicago/'\n",
    "v = '/visualisations'\n",
    "        \n",
    "l = '/listings.csv'\n",
    "r = '/reviews.csv'\n",
    "geo = '/neighbourhoods.geojson'\n",
    "\n",
    "\n",
    "base+'2019-'+'07-'+'15'+v+l"
   ]
  },
  {
   "cell_type": "markdown",
   "metadata": {},
   "source": [
    "Create year, month, and day lists to be used as a lookup. \n",
    "<br/> \n",
    "Convert integers into padded string variables."
   ]
  },
  {
   "cell_type": "code",
   "execution_count": 2,
   "metadata": {},
   "outputs": [
    {
     "name": "stdout",
     "output_type": "stream",
     "text": [
      "Year:\n",
      "['2018-', '2019-']\n",
      "\n",
      "Month:\n",
      "['01-', '02-', '03-', '04-', '05-', '06-', '07-', '08-', '09-', '10-', '11-', '12-']\n",
      "\n",
      "Day:\n",
      "['01', '02', '03', '04', '05', '06', '07', '08', '09', '10', '11', '12', '13', '14', '15', '16', '17', '18', '19', '20', '21', '22', '23', '24', '25', '26', '27', '28', '29', '30', '31']\n"
     ]
    }
   ],
   "source": [
    "yr = list(range(2018,2020))\n",
    "yr = [str(x) + '-' for x in yr]\n",
    "\n",
    "mo = list(range(1,13))\n",
    "mo = [format(x, '02d') + '-' for x in mo]\n",
    "\n",
    "dy = list(range(1,32))\n",
    "dy = [format(x, '02d') for x in dy]\n",
    "\n",
    "print(f'Year:\\n{yr}\\n\\nMonth:\\n{mo}\\n\\nDay:\\n{dy}')"
   ]
  },
  {
   "cell_type": "code",
   "execution_count": 3,
   "metadata": {},
   "outputs": [
    {
     "data": {
      "text/plain": [
       "'2018-01-01'"
      ]
     },
     "execution_count": 3,
     "metadata": {},
     "output_type": "execute_result"
    }
   ],
   "source": [
    "temp = yr[0]+mo[0]+dy[0]\n",
    "temp"
   ]
  },
  {
   "cell_type": "code",
   "execution_count": 4,
   "metadata": {
    "scrolled": true
   },
   "outputs": [
    {
     "data": {
      "text/plain": [
       "['2018-01-01',\n",
       " '2019-01-01',\n",
       " '2018-02-01',\n",
       " '2019-02-01',\n",
       " '2018-03-01',\n",
       " '2019-03-01',\n",
       " '2018-04-01',\n",
       " '2019-04-01',\n",
       " '2018-05-01',\n",
       " '2019-05-01']"
      ]
     },
     "execution_count": 4,
     "metadata": {},
     "output_type": "execute_result"
    }
   ],
   "source": [
    "ymd_full = []\n",
    "\n",
    "for day in dy: \n",
    "    for month in mo:\n",
    "        for year in yr:\n",
    "            ymd_full.append(year+month+day)\n",
    "\n",
    "ymd_full[:10]"
   ]
  },
  {
   "cell_type": "markdown",
   "metadata": {},
   "source": [
    "Creating a function to generate a gross list of links\n",
    "***"
   ]
  },
  {
   "cell_type": "code",
   "execution_count": 6,
   "metadata": {
    "scrolled": true
   },
   "outputs": [
    {
     "name": "stdout",
     "output_type": "stream",
     "text": [
      "type of review? listing\n",
      "['http://data.insideairbnb.com/united-states/il/chicago/2018-01-01/visualisations/listings.csv',\n",
      " 'http://data.insideairbnb.com/united-states/il/chicago/2019-01-01/visualisations/listings.csv',\n",
      " 'http://data.insideairbnb.com/united-states/il/chicago/2018-02-01/visualisations/listings.csv',\n",
      " 'http://data.insideairbnb.com/united-states/il/chicago/2019-02-01/visualisations/listings.csv',\n",
      " 'http://data.insideairbnb.com/united-states/il/chicago/2018-03-01/visualisations/listings.csv',\n",
      " 'http://data.insideairbnb.com/united-states/il/chicago/2019-03-01/visualisations/listings.csv',\n",
      " 'http://data.insideairbnb.com/united-states/il/chicago/2018-04-01/visualisations/listings.csv',\n",
      " 'http://data.insideairbnb.com/united-states/il/chicago/2019-04-01/visualisations/listings.csv',\n",
      " 'http://data.insideairbnb.com/united-states/il/chicago/2018-05-01/visualisations/listings.csv',\n",
      " 'http://data.insideairbnb.com/united-states/il/chicago/2019-05-01/visualisations/listings.csv']\n",
      "\n",
      "\n",
      "type of review? review\n",
      "['http://data.insideairbnb.com/united-states/il/chicago/2018-01-01/visualisations/reviews.csv',\n",
      " 'http://data.insideairbnb.com/united-states/il/chicago/2019-01-01/visualisations/reviews.csv',\n",
      " 'http://data.insideairbnb.com/united-states/il/chicago/2018-02-01/visualisations/reviews.csv',\n",
      " 'http://data.insideairbnb.com/united-states/il/chicago/2019-02-01/visualisations/reviews.csv',\n",
      " 'http://data.insideairbnb.com/united-states/il/chicago/2018-03-01/visualisations/reviews.csv',\n",
      " 'http://data.insideairbnb.com/united-states/il/chicago/2019-03-01/visualisations/reviews.csv',\n",
      " 'http://data.insideairbnb.com/united-states/il/chicago/2018-04-01/visualisations/reviews.csv',\n",
      " 'http://data.insideairbnb.com/united-states/il/chicago/2019-04-01/visualisations/reviews.csv',\n",
      " 'http://data.insideairbnb.com/united-states/il/chicago/2018-05-01/visualisations/reviews.csv',\n",
      " 'http://data.insideairbnb.com/united-states/il/chicago/2019-05-01/visualisations/reviews.csv']\n",
      "\n",
      "\n",
      "type of review? dgfjkl';\n",
      "\"go home, you're drunk\"\n"
     ]
    }
   ],
   "source": [
    "def download_list_csv(): \n",
    "    type = input('type of review? ')\n",
    "    temp = []\n",
    "    for date in ymd_full: \n",
    "        if type.startswith('li'): \n",
    "            temp.append(base+date+v+l)\n",
    "        elif type.startswith('re'): \n",
    "            temp.append(base+date+v+r)\n",
    "        else: \n",
    "            return (\"go home, you're drunk\")\n",
    "    return temp\n",
    "\n",
    "listings_list = download_list_csv()\n",
    "pprint(listings_list[:10])\n",
    "print('\\n')\n",
    "reviews_list = download_list_csv()\n",
    "pprint(reviews_list[:10])\n",
    "print('\\n')\n",
    "temp = download_list_csv()\n",
    "pprint(temp)"
   ]
  },
  {
   "cell_type": "markdown",
   "metadata": {},
   "source": [
    "Using the `urllib` library to validate the URLs in our newly generated lists\n",
    "***"
   ]
  },
  {
   "cell_type": "code",
   "execution_count": 7,
   "metadata": {
    "scrolled": false
   },
   "outputs": [
    {
     "name": "stdout",
     "output_type": "stream",
     "text": [
      "False\n"
     ]
    },
    {
     "data": {
      "text/plain": [
       "True"
      ]
     },
     "execution_count": 7,
     "metadata": {},
     "output_type": "execute_result"
    }
   ],
   "source": [
    "def validate_url(url):\n",
    "    try:\n",
    "        urlopen(url)\n",
    "        return True\n",
    "    except URLError:\n",
    "        return False\n",
    "\n",
    "print(validate_url(\"http://data.insideairbnb.com/united-states/il/chicago/8888888888888888/visualisations/reviews.csv\"))\n",
    "validate_url(\"http://data.insideairbnb.com/united-states/il/chicago/2019-07-15/visualisations/reviews.csv\")"
   ]
  },
  {
   "cell_type": "markdown",
   "metadata": {},
   "source": [
    "Creating a loop utilizing the newly created `validate_url` function\n",
    "***"
   ]
  },
  {
   "cell_type": "code",
   "execution_count": 16,
   "metadata": {
    "scrolled": true
   },
   "outputs": [
    {
     "name": "stdout",
     "output_type": "stream",
     "text": [
      "type of review? listing\n",
      "%%%%%% Ready. Set. Go. %%%%%%\n",
      "-----------------------------\n",
      "1. http://data.insideairbnb.com/united-states/il/chicago/2019-02-09/visualisations/listings.csv\n",
      "-----------------------------\n",
      "2. http://data.insideairbnb.com/united-states/il/chicago/2018-10-11/visualisations/listings.csv\n",
      "-----------------------------\n",
      "3. http://data.insideairbnb.com/united-states/il/chicago/2018-02-12/visualisations/listings.csv\n",
      "-----------------------------\n",
      "4. http://data.insideairbnb.com/united-states/il/chicago/2019-03-12/visualisations/listings.csv\n",
      "-----------------------------\n",
      "5. http://data.insideairbnb.com/united-states/il/chicago/2018-12-13/visualisations/listings.csv\n",
      "-----------------------------\n",
      "6. http://data.insideairbnb.com/united-states/il/chicago/2019-06-14/visualisations/listings.csv\n",
      "-----------------------------\n",
      "7. http://data.insideairbnb.com/united-states/il/chicago/2018-09-14/visualisations/listings.csv\n",
      "-----------------------------\n",
      "8. http://data.insideairbnb.com/united-states/il/chicago/2018-04-15/visualisations/listings.csv\n",
      "-----------------------------\n",
      "9. http://data.insideairbnb.com/united-states/il/chicago/2019-04-15/visualisations/listings.csv\n",
      "-----------------------------\n",
      "10. http://data.insideairbnb.com/united-states/il/chicago/2019-07-15/visualisations/listings.csv\n",
      "-----------------------------\n",
      "11. http://data.insideairbnb.com/united-states/il/chicago/2018-11-15/visualisations/listings.csv\n",
      "-----------------------------\n",
      "12. http://data.insideairbnb.com/united-states/il/chicago/2019-01-17/visualisations/listings.csv\n",
      "-----------------------------\n",
      "13. http://data.insideairbnb.com/united-states/il/chicago/2018-08-17/visualisations/listings.csv\n",
      "-----------------------------\n",
      "14. http://data.insideairbnb.com/united-states/il/chicago/2018-05-18/visualisations/listings.csv\n",
      "-----------------------------\n",
      "15. http://data.insideairbnb.com/united-states/il/chicago/2018-07-18/visualisations/listings.csv\n",
      "-----------------------------\n",
      "16. http://data.insideairbnb.com/united-states/il/chicago/2019-05-19/visualisations/listings.csv\n",
      "-----------------------------\n",
      "17. http://data.insideairbnb.com/united-states/il/chicago/2018-06-19/visualisations/listings.csv\n",
      "-----------------------------\n",
      "18. http://data.insideairbnb.com/united-states/il/chicago/2019-08-19/visualisations/listings.csv\n",
      "-----------------------------\n",
      "19. http://data.insideairbnb.com/united-states/il/chicago/2018-03-21/visualisations/listings.csv\n",
      "-----------------------------\n",
      "20. http://data.insideairbnb.com/united-states/il/chicago/2018-01-25/visualisations/listings.csv\n",
      "-----------------------------\n",
      "%%%%% Ready. Set. Stop. %%%%%\n"
     ]
    }
   ],
   "source": [
    "# temp = download_list_csv()\n",
    "\n",
    "def download_query(): \n",
    "    \n",
    "    dl_list = download_list_csv()\n",
    "    \n",
    "    invalid = []\n",
    "    valid = []\n",
    "    counter = 0\n",
    "\n",
    "    print(f'{\"%\"*6} Ready. Set. Go. {\"%\"*6}\\n{\"-\"*29}')\n",
    "\n",
    "    for link in dl_list:\n",
    "        if validate_url(link) == False: \n",
    "            invalid.append(link)\n",
    "        else: \n",
    "            valid.append(link)\n",
    "            counter += 1\n",
    "            print(f'{counter}. {link}\\n{\"-\"*29}')\n",
    "    print(f'{\"%\"*5} Ready. Set. Stop. {\"%\"*5}')\n",
    "    return valid\n",
    "          \n",
    "temp = download_query()"
   ]
  },
  {
   "cell_type": "code",
   "execution_count": null,
   "metadata": {},
   "outputs": [],
   "source": [
    "def bar_custom(current, total, width = 80):\n",
    "    print(\"Downloading: %d%% [%d / %d] bytes\" % (current / total * 100, current, total))"
   ]
  },
  {
   "cell_type": "code",
   "execution_count": 27,
   "metadata": {
    "scrolled": true
   },
   "outputs": [
    {
     "name": "stdout",
     "output_type": "stream",
     "text": [
      "100% [..........................................................................] 1057022 / 1057022"
     ]
    }
   ],
   "source": [
    "temp = ['http://data.insideairbnb.com/united-states/il/chicago/2019-02-09/visualisations/listings.csv']\n",
    "\n",
    "def download_csv():\n",
    "    counter = 1\n",
    "\n",
    "    for link in temp:\n",
    "        \n",
    "        x = 'data/listings'+str(counter)+'.csv'\n",
    "        wget.download(link, out = \"data\")\n",
    "        os.rename('data/listings.csv', x)\n",
    "        counter += 1\n",
    "        \n",
    "download_csv()"
   ]
  },
  {
   "cell_type": "markdown",
   "metadata": {},
   "source": [
    "Combining everything into one function\n",
    "***"
   ]
  },
  {
   "cell_type": "code",
   "execution_count": 27,
   "metadata": {},
   "outputs": [
    {
     "name": "stdout",
     "output_type": "stream",
     "text": [
      "type of review? listing\n",
      "%%%%%% Ready. Set. Go. %%%%%%\n",
      "-----------------------------\n",
      "1. http://data.insideairbnb.com/united-states/il/chicago/2019-02-09/visualisations/listings.csv\n",
      "-----------------------------\n",
      "2. http://data.insideairbnb.com/united-states/il/chicago/2018-10-11/visualisations/listings.csv\n",
      "-----------------------------\n",
      "3. http://data.insideairbnb.com/united-states/il/chicago/2018-02-12/visualisations/listings.csv\n",
      "-----------------------------\n",
      "4. http://data.insideairbnb.com/united-states/il/chicago/2019-03-12/visualisations/listings.csv\n",
      "-----------------------------\n",
      "5. http://data.insideairbnb.com/united-states/il/chicago/2018-12-13/visualisations/listings.csv\n",
      "-----------------------------\n",
      "6. http://data.insideairbnb.com/united-states/il/chicago/2019-06-14/visualisations/listings.csv\n",
      "-----------------------------\n",
      "7. http://data.insideairbnb.com/united-states/il/chicago/2018-09-14/visualisations/listings.csv\n",
      "-----------------------------\n",
      "8. http://data.insideairbnb.com/united-states/il/chicago/2018-04-15/visualisations/listings.csv\n",
      "-----------------------------\n",
      "9. http://data.insideairbnb.com/united-states/il/chicago/2019-04-15/visualisations/listings.csv\n",
      "-----------------------------\n",
      "10. http://data.insideairbnb.com/united-states/il/chicago/2019-07-15/visualisations/listings.csv\n",
      "-----------------------------\n",
      "11. http://data.insideairbnb.com/united-states/il/chicago/2018-11-15/visualisations/listings.csv\n",
      "-----------------------------\n",
      "12. http://data.insideairbnb.com/united-states/il/chicago/2019-01-17/visualisations/listings.csv\n",
      "-----------------------------\n",
      "13. http://data.insideairbnb.com/united-states/il/chicago/2018-08-17/visualisations/listings.csv\n",
      "-----------------------------\n",
      "14. http://data.insideairbnb.com/united-states/il/chicago/2018-05-18/visualisations/listings.csv\n",
      "-----------------------------\n",
      "15. http://data.insideairbnb.com/united-states/il/chicago/2018-07-18/visualisations/listings.csv\n",
      "-----------------------------\n",
      "16. http://data.insideairbnb.com/united-states/il/chicago/2019-05-19/visualisations/listings.csv\n",
      "-----------------------------\n",
      "17. http://data.insideairbnb.com/united-states/il/chicago/2018-06-19/visualisations/listings.csv\n",
      "-----------------------------\n",
      "18. http://data.insideairbnb.com/united-states/il/chicago/2019-08-19/visualisations/listings.csv\n",
      "-----------------------------\n",
      "19. http://data.insideairbnb.com/united-states/il/chicago/2018-03-21/visualisations/listings.csv\n",
      "-----------------------------\n",
      "20. http://data.insideairbnb.com/united-states/il/chicago/2018-01-25/visualisations/listings.csv\n",
      "-----------------------------\n",
      "%%%%% Ready. Set. Stop. %%%%%\n",
      "\n",
      "====== Download start. ======\n",
      "-----------------------------\n",
      "100% [..........................................................................] 1057022 / 1057022\n",
      "Download complete.\n"
     ]
    }
   ],
   "source": [
    "def download_csv():\n",
    "    csv_list = download_query()\n",
    "    \n",
    "    counter = 1\n",
    "    print(f'\\n{\"=\"*6} Download start. {\"=\"*6}\\n{\"~\"*29}')\n",
    "    for link in csv_list:\n",
    "        if csv_list[0].endswith('listings.csv'): \n",
    "            csv_name = 'data/listings'+str(counter)+'.csv'\n",
    "            wget.download(link, out = \"data\")\n",
    "            os.rename('data/listings.csv', csv_name)\n",
    "            counter += 1\n",
    "        else: \n",
    "            csv_name = 'data/reviews'+str(counter)+'.csv'\n",
    "            wget.download(link, out = \"data\")\n",
    "            os.rename('data/reviews.csv', csv_name)\n",
    "            counter += 1\n",
    "\n",
    "    print(f'\\n{\"=\"*5} Download complete {\"=\"*5}\\n{\"~\"*29}')\n",
    "    \n",
    "temp = download_csv()"
   ]
  },
  {
   "cell_type": "code",
   "execution_count": null,
   "metadata": {},
   "outputs": [],
   "source": []
  },
  {
   "cell_type": "code",
   "execution_count": null,
   "metadata": {},
   "outputs": [],
   "source": []
  },
  {
   "cell_type": "code",
   "execution_count": null,
   "metadata": {},
   "outputs": [],
   "source": []
  },
  {
   "cell_type": "code",
   "execution_count": null,
   "metadata": {},
   "outputs": [],
   "source": []
  },
  {
   "cell_type": "code",
   "execution_count": null,
   "metadata": {},
   "outputs": [],
   "source": []
  },
  {
   "cell_type": "markdown",
   "metadata": {},
   "source": [
    "# Part II. Merging Datasets\n",
    "***"
   ]
  },
  {
   "cell_type": "code",
   "execution_count": null,
   "metadata": {},
   "outputs": [],
   "source": [
    "# pandas concat\n",
    "# df = pd.concat([pd.read_csv(f, index_col=[0,1]) for f in files])"
   ]
  }
 ],
 "metadata": {
  "kernelspec": {
   "display_name": "Python 3",
   "language": "python",
   "name": "python3"
  },
  "language_info": {
   "codemirror_mode": {
    "name": "ipython",
    "version": 3
   },
   "file_extension": ".py",
   "mimetype": "text/x-python",
   "name": "python",
   "nbconvert_exporter": "python",
   "pygments_lexer": "ipython3",
   "version": "3.7.3"
  }
 },
 "nbformat": 4,
 "nbformat_minor": 2
}
